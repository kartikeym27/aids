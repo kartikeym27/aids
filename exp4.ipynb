{
 "cells": [
  {
   "cell_type": "code",
   "execution_count": null,
   "metadata": {},
   "outputs": [],
   "source": [
    "import pandas as pd\n",
    "import seaborn as sns\n",
    "import matplotlib.pyplot as plt\n",
    "\n",
    "dataset = pd.read_csv('/content/drive/MyDrive/AIDS/Cost_of_Living_Index_by_Country_2024.csv')\n",
    "sns.set(style=\"whitegrid\")\n",
    "\n",
    "plt.figure(figsize=(10, 6))\n",
    "top_10_countries = dataset.nlargest(10, 'Cost of Living Index')\n",
    "sns.barplot(x='Cost of Living Index', y='Country', data=top_10_countries, palette='viridis')\n",
    "plt.title('Top 10 Countries by Cost of Living Index')\n",
    "plt.show()\n",
    "\n",
    "plt.figure(figsize=(8, 6))\n",
    "sns.scatterplot(x='Cost of Living Index', y='Rent Index', data=dataset, hue='Country', palette='coolwarm', legend=False)\n",
    "plt.title('Rent Index vs. Cost of Living Index')\n",
    "plt.show()\n",
    "\n",
    "plt.figure(figsize=(10, 6))\n",
    "correlation_matrix = dataset[['Cost of Living Index', 'Rent Index', 'Cost of Living Plus Rent Index', 'Groceries Index', 'Restaurant Price Index', 'Local Purchasing Power Index']].corr()\n",
    "sns.heatmap(correlation_matrix, annot=True, cmap='coolwarm')\n",
    "plt.title('Correlation Matrix of Various Indexes')\n",
    "plt.show()\n",
    "\n",
    "sns.pairplot(dataset[['Cost of Living Index', 'Rent Index', 'Cost of Living Plus Rent Index', 'Groceries Index', 'Restaurant Price Index', 'Local Purchasing Power Index']])\n",
    "plt.title('Pairplot of Various Indexes')\n",
    "plt.show()\n",
    "\n",
    "sns.lmplot(x='Rent Index', y='Cost of Living Index', hue='Restaurant Price Index', data=dataset, palette='coolwarm', height=6, aspect=1.5)\n",
    "plt.title('Regression of Cost of Living Index on Rent and Restaurant Price Index')\n",
    "plt.show()"
   ]
  }
 ],
 "metadata": {
  "language_info": {
   "name": "python"
  }
 },
 "nbformat": 4,
 "nbformat_minor": 2
}
